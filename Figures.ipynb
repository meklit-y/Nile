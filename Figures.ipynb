{
 "cells": [
  {
   "cell_type": "markdown",
   "metadata": {},
   "source": [
    "This code reads the simulted flow from the watout dat file from SWAT and observed csv files and plots the graphs."
   ]
  },
  {
   "cell_type": "code",
   "execution_count": 2,
   "metadata": {},
   "outputs": [],
   "source": [
    "import pandas as pd\n",
    "import matplotlib.pyplot as plt"
   ]
  },
  {
   "cell_type": "code",
   "execution_count": null,
   "metadata": {},
   "outputs": [],
   "source": [
    "# Define the file paths\n",
    "observed = r\"path\\to\\csv\\file.csv\"  # Replace with your actual CSV file path\n",
    "simulated = r\"path\\to\\dat\\file.dat\"  # Replace with your actual .dat file path\n",
    "\n",
    "# Read the CSV file\n",
    "try:\n",
    "    csv_data = pd.read_csv(observed)\n",
    "    print(\"CSV data loaded successfully.\")\n",
    "except Exception as e:\n",
    "    print(\"Error loading CSV:\", e)\n",
    "\n",
    "# Extract the 'Year' and 'Flow_obs' columns from the CSV\n",
    "year = csv_data['Year']  # Assuming the column name is 'Year'\n",
    "flow_obs = csv_data['Flow_obs']  # Assuming the column name is 'Flow_obs'\n",
    "\n",
    "# Read the DAT file\n",
    "try:\n",
    "    with open(simulated, 'r') as file:\n",
    "        lines = file.readlines()\n",
    "\n",
    "    # Skip the first 6 lines, and extract data from columns 20 to 29\n",
    "    data_lines = lines[6:]  # Get all lines after the header\n",
    "\n",
    "    # Extract and convert the relevant columns (from column 20 to 29)\n",
    "    trimmed_data = [line[19:29] for line in data_lines]\n",
    "\n",
    "    # Convert the trimmed data into numeric format (handling scientific notation)\n",
    "    flow_sim = pd.to_numeric(trimmed_data, errors='coerce')\n",
    "except Exception as e:\n",
    "    print(\"Error loading DAT:\", e)\n",
    "\n",
    "# Print lengths of data before matching\n",
    "print(f\"Length of Flow_obs from CSV: {len(flow_obs)}\")\n",
    "print(f\"Length of Flow_sim from DAT: {len(flow_sim)}\")\n",
    "\n",
    "# Ensure the lengths of data in both files match for comparison\n",
    "if len(flow_obs) != len(flow_sim):\n",
    "    print(\"Warning: Mismatch in the number of data points between CSV and DAT files.\")\n",
    "    min_length = min(len(flow_obs), len(flow_sim))\n",
    "    year = year[:min_length]\n",
    "    flow_obs = flow_obs[:min_length]\n",
    "    flow_sim = flow_sim[:min_length]\n",
    "    \n",
    "    # Print the final minimum length\n",
    "    print(f\"Final minimum length of data for comparison: {min_length}\")\n",
    "else:\n",
    "    print(f\"Both datasets have matching lengths: {len(flow_obs)}\")\n",
    "\n",
    "# Plot the data\n",
    "plt.figure(figsize=(10, 6))\n",
    "\n",
    "# Plot Flow_obs from the CSV\n",
    "#plt.plot(Year, flow_obs, label='Flow_obs (CSV)', color='blue', linestyle='-', linewidth=2) #Year messes up the code\n",
    "plt.plot(flow_obs, label='Flow_obs (CSV)', color='blue', linestyle='-', linewidth=2)\n",
    "\n",
    "# Plot the corresponding data from the DAT file\n",
    "#plt.plot(Year, flow_sim, label='Flow Simulated (DAT)', color='red', linestyle='-', linewidth=2) #Year messes up the code\n",
    "plt.plot(flow_sim, label='Flow Simulated (DAT)', color='red', linestyle='-', linewidth=2)\n",
    "\n",
    "# Customize the plot\n",
    "plt.title('Comparison of Flow Data from CSV and DAT Files')\n",
    "plt.xlabel('Year')\n",
    "plt.ylabel('Flow')\n",
    "plt.legend()\n",
    "plt.grid(True)\n",
    "\n",
    "# Show the plot\n",
    "plt.show()\n"
   ]
  }
 ],
 "metadata": {
  "kernelspec": {
   "display_name": "base",
   "language": "python",
   "name": "python3"
  },
  "language_info": {
   "codemirror_mode": {
    "name": "ipython",
    "version": 3
   },
   "file_extension": ".py",
   "mimetype": "text/x-python",
   "name": "python",
   "nbconvert_exporter": "python",
   "pygments_lexer": "ipython3",
   "version": "3.12.4"
  }
 },
 "nbformat": 4,
 "nbformat_minor": 2
}
